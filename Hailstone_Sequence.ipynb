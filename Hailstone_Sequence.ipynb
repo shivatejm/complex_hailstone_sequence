{
 "cells": [
  {
   "cell_type": "code",
   "execution_count": null,
   "metadata": {},
   "outputs": [],
   "source": [
    "def hailstone2(a,b):\n",
    "    repeat = []\n",
    "    for i_init in range (1,1001):\n",
    "        i = i_init\n",
    "        count = 0\n",
    "        hailstone = []\n",
    "        isbad=False\n",
    "        while i>0:\n",
    "            if i%2==0:\n",
    "                i//=2 ##use // to convert the result into int, not float\n",
    "            else:\n",
    "                i = (i*a)+b\n",
    "            count +=1\n",
    "            hailstone.append(i)\n",
    "            if count >= 10000:\n",
    "                isbad=True\n",
    "#                print(a,b,isbad)\n",
    "                #print(\"For a =\" +str(a)+\"and b =\" +str(b)+ \"and number\" + str(i) + \"the sequences is not converging:\")\n",
    "                return(10000,[])\n",
    "                break\n",
    "            if len(hailstone) != len(set(hailstone)):\n",
    "#                print(\"list length is:{}\".format(len(hailstone)))\n",
    "#                print(\"set length is:{}\".format(len(set(hailstone))))\n",
    "                uniqueHailstone = list(hailstone[:-1])\n",
    "                cycle = uniqueHailstone[uniqueHailstone.index(hailstone[-1]):len(uniqueHailstone)]\n",
    "                cycle.sort()\n",
    "                if cycle not in repeat:\n",
    "                    repeat.append(cycle)\n",
    "                    #print(repeat)\n",
    "                    break\n",
    "                else:\n",
    "                    break\n",
    "    #print(len(repeat))\n",
    "    return(count, repeat)\n",
    "\n",
    "repeatlist = []\n",
    "for a in range(0,11):\n",
    "    for b in range(0,11):\n",
    "        x, repeatlist = hailstone2(a,b)\n",
    "        print(\"For a =\" +str(a)+\" and b =\" +str(b)+ \" the number of unique sequences are:\" + str(len(repeatlist)))"
   ]
  }
 ],
 "metadata": {
  "kernelspec": {
   "display_name": "Python 3",
   "language": "python",
   "name": "python3"
  },
  "language_info": {
   "codemirror_mode": {
    "name": "ipython",
    "version": 3
   },
   "file_extension": ".py",
   "mimetype": "text/x-python",
   "name": "python",
   "nbconvert_exporter": "python",
   "pygments_lexer": "ipython3",
   "version": "3.7.1"
  }
 },
 "nbformat": 4,
 "nbformat_minor": 2
}
